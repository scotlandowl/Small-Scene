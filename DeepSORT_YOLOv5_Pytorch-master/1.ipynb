{
 "cells": [
  {
   "cell_type": "code",
   "execution_count": 1,
   "metadata": {},
   "outputs": [],
   "source": [
    "import numpy as np"
   ]
  },
  {
   "cell_type": "code",
   "execution_count": 2,
   "metadata": {},
   "outputs": [
    {
     "data": {
      "text/plain": [
       "numpy.float64"
      ]
     },
     "execution_count": 2,
     "metadata": {},
     "output_type": "execute_result"
    }
   ],
   "source": [
    "np.float64"
   ]
  },
  {
   "cell_type": "code",
   "execution_count": 1,
   "metadata": {},
   "outputs": [],
   "source": [
    "import torch"
   ]
  },
  {
   "cell_type": "code",
   "execution_count": 9,
   "metadata": {},
   "outputs": [],
   "source": [
    "o = torch.zeros((1, 5))"
   ]
  },
  {
   "cell_type": "code",
   "execution_count": 14,
   "metadata": {},
   "outputs": [],
   "source": [
    "o[0, 4] = -1"
   ]
  },
  {
   "cell_type": "code",
   "execution_count": 15,
   "metadata": {},
   "outputs": [
    {
     "data": {
      "text/plain": [
       "tensor([[ 1.,  1.,  1.,  1., -1.]])"
      ]
     },
     "execution_count": 15,
     "metadata": {},
     "output_type": "execute_result"
    }
   ],
   "source": [
    "o"
   ]
  },
  {
   "cell_type": "code",
   "execution_count": 16,
   "metadata": {},
   "outputs": [],
   "source": [
    "from collections import defaultdict"
   ]
  },
  {
   "cell_type": "code",
   "execution_count": 18,
   "metadata": {},
   "outputs": [],
   "source": [
    "res = defaultdict(list)"
   ]
  },
  {
   "cell_type": "code",
   "execution_count": 21,
   "metadata": {},
   "outputs": [],
   "source": [
    "res[0].append([1,2,3])"
   ]
  },
  {
   "cell_type": "code",
   "execution_count": 22,
   "metadata": {},
   "outputs": [
    {
     "data": {
      "text/plain": [
       "[[1, 2, 3], [1, 2, 3]]"
      ]
     },
     "execution_count": 22,
     "metadata": {},
     "output_type": "execute_result"
    }
   ],
   "source": [
    "res[0]"
   ]
  },
  {
   "cell_type": "code",
   "execution_count": null,
   "metadata": {},
   "outputs": [],
   "source": []
  },
  {
   "cell_type": "code",
   "execution_count": null,
   "metadata": {},
   "outputs": [],
   "source": []
  },
  {
   "cell_type": "code",
   "execution_count": 3,
   "metadata": {},
   "outputs": [
    {
     "name": "stdout",
     "output_type": "stream",
     "text": [
      "Videos merged successfully.\n"
     ]
    }
   ],
   "source": [
    "import cv2\n",
    "\n",
    "# 读取第一个视频\n",
    "video_path_1 = 'data/test05.mp4'\n",
    "vdo_1 = cv2.VideoCapture(video_path_1)\n",
    "\n",
    "# 读取第二个视频\n",
    "video_path_2 = 'data/test05.mp4'\n",
    "vdo_2 = cv2.VideoCapture(video_path_2)\n",
    "\n",
    "# 获取视频的帧率、宽度和高度\n",
    "fps_1 = vdo_1.get(cv2.CAP_PROP_FPS)\n",
    "fps_2 = vdo_2.get(cv2.CAP_PROP_FPS)\n",
    "width_1 = int(vdo_1.get(cv2.CAP_PROP_FRAME_WIDTH))\n",
    "height_1 = int(vdo_1.get(cv2.CAP_PROP_FRAME_HEIGHT))\n",
    "width_2 = int(vdo_2.get(cv2.CAP_PROP_FRAME_WIDTH))\n",
    "height_2 = int(vdo_2.get(cv2.CAP_PROP_FRAME_HEIGHT))\n",
    "\n",
    "# 获取视频总帧数\n",
    "total_frames_1 = int(vdo_1.get(cv2.CAP_PROP_FRAME_COUNT))\n",
    "total_frames_2 = int(vdo_2.get(cv2.CAP_PROP_FRAME_COUNT))\n",
    "\n",
    "# 确定每个视频需要读取的帧数\n",
    "frames_to_read_1 = total_frames_1 // 4\n",
    "frames_to_read_2 = total_frames_2 // 4\n",
    "\n",
    "# 创建用于拼接视频的 VideoWriter 对象\n",
    "output_path = 'output_video.mp4'\n",
    "fourcc = cv2.VideoWriter_fourcc(*'mp4v')\n",
    "output_video = cv2.VideoWriter(output_path, fourcc, fps_1, (width_1, height_1))\n",
    "\n",
    "# 读取并写入第一个视频的前半部分帧\n",
    "for _ in range(frames_to_read_1):\n",
    "    ret, frame = vdo_1.read()\n",
    "    if ret:\n",
    "        output_video.write(frame)\n",
    "    else:\n",
    "        break\n",
    "\n",
    "# 读取并写入第二个视频的前半部分帧\n",
    "for _ in range(frames_to_read_2):\n",
    "    ret, frame = vdo_2.read()\n",
    "    if ret:\n",
    "        output_video.write(frame)\n",
    "    else:\n",
    "        break\n",
    "\n",
    "# 释放资源\n",
    "vdo_1.release()\n",
    "vdo_2.release()\n",
    "output_video.release()\n",
    "\n",
    "print('Videos merged successfully.')\n"
   ]
  },
  {
   "cell_type": "code",
   "execution_count": null,
   "metadata": {},
   "outputs": [],
   "source": []
  }
 ],
 "metadata": {
  "kernelspec": {
   "display_name": "py38",
   "language": "python",
   "name": "python3"
  },
  "language_info": {
   "codemirror_mode": {
    "name": "ipython",
    "version": 3
   },
   "file_extension": ".py",
   "mimetype": "text/x-python",
   "name": "python",
   "nbconvert_exporter": "python",
   "pygments_lexer": "ipython3",
   "version": "3.10.9"
  }
 },
 "nbformat": 4,
 "nbformat_minor": 2
}
